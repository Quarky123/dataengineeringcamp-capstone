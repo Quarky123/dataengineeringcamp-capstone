{
 "cells": [
  {
   "cell_type": "code",
   "execution_count": null,
   "metadata": {},
   "outputs": [],
   "source": [
    "# docs \n",
    "# https://alpaca.markets/docs/api-references/market-data-api/stock-pricing-data/historical/\n",
    "# https://algotrading101.com/learn/alpaca-trading-api-guide/"
   ]
  },
  {
   "cell_type": "code",
   "execution_count": 20,
   "metadata": {},
   "outputs": [],
   "source": [
    "# !pip3 install alpaca-trade-api"
   ]
  },
  {
   "cell_type": "markdown",
   "metadata": {},
   "source": [
    "## those stocks that used to be there and i already have the table of them, it will still be there, but i just won't update it or show it on preset"
   ]
  },
  {
   "cell_type": "code",
   "execution_count": 1,
   "metadata": {},
   "outputs": [],
   "source": [
    "api_key_id = 'PKIH2O76LGYL0Q0Z7ZE4'\n",
    "api_secret_key = 'fymH00eW1PDyGlnIFJSYS2zTK50byekJ6JRZqPUD'\n",
    "# from secrets_config import db_user, db_password, db_server_name, db_database_name\n",
    "DB_USERNAME='postgres'\n",
    "DB_PASSWORD='cqz481QG6n07'\n",
    "DB_HOST='dataengineeringcamp-capstone.cysnf1ubzrvr.ap-southeast-1.rds.amazonaws.com'\n",
    "DB_PORT=5432\n",
    "DB_NAME='postgres'\n"
   ]
  },
  {
   "cell_type": "code",
   "execution_count": 2,
   "metadata": {},
   "outputs": [],
   "source": [
    "import alpaca_trade_api as tradeapi\n",
    "# import alpaca_trade_api \n",
    "\n",
    "from alpaca_trade_api.rest import REST, TimeFrame\n",
    "import pandas as pd\n",
    "import requests\n",
    "import psycopg2\n",
    "\n",
    "from datetime import datetime, timedelta\n",
    "import pytz\n",
    "import alpaca_trade_api as tradeapi\n",
    "from alpaca_trade_api.rest import TimeFrame\n",
    "\n"
   ]
  },
  {
   "cell_type": "code",
   "execution_count": 3,
   "metadata": {},
   "outputs": [],
   "source": [
    "# from datetime import datetime, timedelta\n",
    "# import pytz\n",
    "# import alpaca_trade_api as tradeapi\n",
    "# from alpaca_trade_api.rest import TimeFrame\n",
    "\n",
    "# # authentication and connection details\n",
    "# base_url = 'https://paper-api.alpaca.markets'\n",
    "# api = tradeapi.REST(api_key_id, api_secret_key, base_url, api_version='v2')\n",
    "\n",
    "# # get today's date in UTC timezone\n",
    "# today = datetime.now(pytz.utc)- timedelta(days=1)\n",
    "\n",
    "# # calculate the date one year from today's date in UTC timezone\n",
    "# one_year_from_now = today - timedelta(days=365)\n",
    "\n",
    "# # convert the dates to string format with the desired date format \"YYYY-MM-DD\"\n",
    "# start_date = today.strftime('%Y-%m-%d')\n",
    "# end_date = one_year_from_now.strftime('%Y-%m-%d')\n",
    "\n",
    "# # get the AAPL stock bars for the specified date range\n",
    "# api.get_bars(\"AAPL\", TimeFrame.Day,  end_date, start_date,adjustment='raw').df\n"
   ]
  },
  {
   "cell_type": "code",
   "execution_count": 4,
   "metadata": {},
   "outputs": [],
   "source": [
    "# note that it will always be delayed by 1 day because my subscription doesn't for up to date data\n",
    "\n",
    "def individual_stock_bar(api_key_id,api_secret_key,stock_ticker):\n",
    "    # authentication and connection details\n",
    "    base_url = 'https://paper-api.alpaca.markets'\n",
    "    api = tradeapi.REST(api_key_id, api_secret_key, base_url, api_version='v2')\n",
    "\n",
    "    # get today's date in UTC timezone\n",
    "    today = datetime.now(pytz.utc)- timedelta(days=1)\n",
    "\n",
    "    # calculate the date one year from today's date in UTC timezone\n",
    "    # i am just using 30 days for demonstration purposes, supposed to be 365 days\n",
    "    one_year_from_now = today - timedelta(days=30)\n",
    "\n",
    "    # convert the dates to string format with the desired date format \"YYYY-MM-DD\"\n",
    "    start_date = today.strftime('%Y-%m-%d')\n",
    "    end_date = one_year_from_now.strftime('%Y-%m-%d')\n",
    "\n",
    "    # get the AAPL stock bars for the specified date range\n",
    "    return (api.get_bars(stock_ticker, TimeFrame.Day,  end_date, start_date,adjustment='raw').df)\n",
    "    "
   ]
  },
  {
   "cell_type": "code",
   "execution_count": 5,
   "metadata": {},
   "outputs": [],
   "source": [
    "# list_of_stocks = ['TSLA','AAPL','MSFT']\n",
    "\n",
    "# for stock in list_of_stocks:\n",
    "#     df = individual_stock_bar(api_key_id,api_secret_key,stock_ticker=stock)\n",
    "    "
   ]
  },
  {
   "cell_type": "code",
   "execution_count": null,
   "metadata": {},
   "outputs": [],
   "source": []
  },
  {
   "cell_type": "code",
   "execution_count": 6,
   "metadata": {},
   "outputs": [],
   "source": [
    "# this is just creating, it doesn't do upsert\n",
    "def create_and_insert(stock_ticker, df):\n",
    "    cur = conn.cursor()\n",
    "\n",
    "    # use f-strings to create the table name with the stock ticker symbol\n",
    "    create_table_query = f\"\"\"\n",
    "        CREATE TABLE IF NOT EXISTS {stock_ticker} (\n",
    "            id SERIAL PRIMARY KEY,\n",
    "            date DATE,\n",
    "            open FLOAT,\n",
    "            high FLOAT,\n",
    "            low FLOAT,\n",
    "            close FLOAT,\n",
    "            volume INT\n",
    "        )\n",
    "    \"\"\"\n",
    "\n",
    "    # execute the query to create the table\n",
    "    cur.execute(create_table_query)\n",
    "\n",
    "    # commit the transaction to persist the changes\n",
    "    conn.commit()\n",
    "\n",
    "    # insert the data into the table using the INSERT INTO statement\n",
    "    for index, row in df.iterrows():\n",
    "        insert_query = f\"\"\"\n",
    "            INSERT INTO {stock_ticker} (date, open, high, low, close, volume)\n",
    "            VALUES ('{index.date()}', {row['open']}, {row['high']}, {row['low']}, {row['close']}, {row['volume']})\n",
    "        \"\"\"\n",
    "        cur.execute(insert_query)\n",
    "\n",
    "    # commit the transaction to persist the changes\n",
    "    conn.commit()\n",
    "\n",
    "    # close the cursor and connection objects\n",
    "    cur.close()\n"
   ]
  },
  {
   "cell_type": "code",
   "execution_count": 8,
   "metadata": {},
   "outputs": [],
   "source": [
    "# this is upsert\n",
    "def create_and_insert(stock_ticker, df):\n",
    "    cur = conn.cursor()\n",
    "\n",
    "    # use f-strings to create the table name with the stock ticker symbol\n",
    "    create_table_query = f\"\"\"\n",
    "        CREATE TABLE IF NOT EXISTS {stock_ticker} (\n",
    "            date DATE PRIMARY KEY,\n",
    "            open FLOAT,\n",
    "            high FLOAT,\n",
    "            low FLOAT,\n",
    "            close FLOAT,\n",
    "            volume INT\n",
    "        )\n",
    "    \"\"\"\n",
    "\n",
    "    # execute the query to create the table\n",
    "    cur.execute(create_table_query)\n",
    "\n",
    "    # commit the transaction to persist the changes\n",
    "    conn.commit()\n",
    "\n",
    "    # upsert the data into the table using the ON CONFLICT clause\n",
    "    for index, row in df.iterrows():\n",
    "        upsert_query = f\"\"\"\n",
    "            INSERT INTO {stock_ticker} (date, open, high, low, close, volume)\n",
    "            VALUES ('{index.date()}', {row['open']}, {row['high']}, {row['low']}, {row['close']}, {row['volume']})\n",
    "            ON CONFLICT (date) DO UPDATE \n",
    "            SET open = excluded.open,\n",
    "                high = excluded.high,\n",
    "                low = excluded.low,\n",
    "                close = excluded.close,\n",
    "                volume = excluded.volume\n",
    "        \"\"\"\n",
    "        cur.execute(upsert_query)\n",
    "\n",
    "    # commit the transaction to persist the changes\n",
    "    conn.commit()\n",
    "\n",
    "    # close the cursor and connection objects\n",
    "    cur.close()\n"
   ]
  },
  {
   "cell_type": "code",
   "execution_count": 32,
   "metadata": {},
   "outputs": [],
   "source": [
    "df = individual_stock_bar(api_key_id,api_secret_key,stock_ticker='TSLA')\n"
   ]
  },
  {
   "cell_type": "code",
   "execution_count": 39,
   "metadata": {},
   "outputs": [],
   "source": [
    "# define the SQL query to create a table named 'tsla' if it doesn't already exist\n",
    "conn = psycopg2.connect(\n",
    "    user=DB_USERNAME,\n",
    "    password=DB_PASSWORD,\n",
    "    host=DB_HOST,\n",
    "    port=DB_PORT,\n",
    "    database=DB_NAME\n",
    ")\n",
    "\n",
    "create_and_insert('tsla',df)\n",
    "conn.close()"
   ]
  },
  {
   "cell_type": "code",
   "execution_count": 10,
   "metadata": {},
   "outputs": [],
   "source": [
    "def read_stocks_file(file_path):\n",
    "    with open(file_path, 'r') as f:\n",
    "        lines = f.readlines()\n",
    "    # strip newline characters and whitespace from each line\n",
    "    stocks_list = [line.strip() for line in lines]\n",
    "    return stocks_list\n"
   ]
  },
  {
   "cell_type": "code",
   "execution_count": 12,
   "metadata": {},
   "outputs": [],
   "source": [
    "list_of_stocks = read_stocks_file('stocks.txt')"
   ]
  },
  {
   "cell_type": "code",
   "execution_count": 13,
   "metadata": {},
   "outputs": [],
   "source": [
    "\n",
    "# define the SQL query to create a table named 'tsla' if it doesn't already exist\n",
    "conn = psycopg2.connect(\n",
    "    user=DB_USERNAME,\n",
    "    password=DB_PASSWORD,\n",
    "    host=DB_HOST,\n",
    "    port=DB_PORT,\n",
    "    database=DB_NAME\n",
    ")\n",
    "\n",
    "for stock in list_of_stocks:\n",
    "    df = individual_stock_bar(api_key_id,api_secret_key,stock_ticker=stock)\n",
    "    create_and_insert(stock,df)\n",
    "conn.close()"
   ]
  },
  {
   "cell_type": "code",
   "execution_count": 19,
   "metadata": {},
   "outputs": [],
   "source": [
    "# def create_and_insert(stock_ticker, df):\n",
    "#     cur = conn.cursor()\n",
    "\n",
    "#     # use f-strings to create the table name with the stock ticker symbol\n",
    "#     create_table_query = f\"\"\"\n",
    "#         CREATE TABLE IF NOT EXISTS {stock_ticker} (\n",
    "#             id SERIAL PRIMARY KEY,\n",
    "#             date DATE,\n",
    "#             open FLOAT,\n",
    "#             high FLOAT,\n",
    "#             low FLOAT,\n",
    "#             close FLOAT,\n",
    "#             volume INT\n",
    "#         )\n",
    "#     \"\"\"\n",
    "\n",
    "#     # execute the query to create the table\n",
    "#     cur.execute(create_table_query)\n",
    "\n",
    "#     # commit the transaction to persist the changes\n",
    "#     conn.commit()\n",
    "\n",
    "#     # close the cursor and connection objects\n",
    "#     cur.close()\n",
    "#     conn.close()"
   ]
  },
  {
   "cell_type": "code",
   "execution_count": null,
   "metadata": {},
   "outputs": [],
   "source": []
  }
 ],
 "metadata": {
  "kernelspec": {
   "display_name": "Python 3 (ipykernel)",
   "language": "python",
   "name": "python3"
  },
  "language_info": {
   "codemirror_mode": {
    "name": "ipython",
    "version": 3
   },
   "file_extension": ".py",
   "mimetype": "text/x-python",
   "name": "python",
   "nbconvert_exporter": "python",
   "pygments_lexer": "ipython3",
   "version": "3.10.8"
  }
 },
 "nbformat": 4,
 "nbformat_minor": 2
}
